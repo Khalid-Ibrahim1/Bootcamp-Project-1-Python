{
 "cells": [
  {
   "cell_type": "code",
   "execution_count": 1,
   "metadata": {},
   "outputs": [],
   "source": [
    "import pandas as pd\n",
    "import numpy as np\n",
    "import matplotlib.pyplot as plt"
   ]
  },
  {
   "cell_type": "code",
   "execution_count": 2,
   "metadata": {},
   "outputs": [],
   "source": [
    "#linear regression data as a dictionary\n",
    "linear_regression_data = {\n",
    "    'num_rooms': [1, 1, 2, 2, 2, 3, 4, 4, 5, 5],\n",
    "    'pool': [0, 1, 0, 1, 0, 1, 0, 1, 0, 1],\n",
    "    'sqft': [ 1000, 1200, 1100, 1300, 1500, 1700, 2000, 2300, 2500, 2700],\n",
    "    'garage': [ 0, 1, 1, 1, 1, 2, 2, 2, 2, 2],\n",
    "    'price': [ 120, 130, 124, 142, 165, 191, 230, 243, 277, 311]\n",
    "    }"
   ]
  },
  {
   "cell_type": "code",
   "execution_count": 3,
   "metadata": {},
   "outputs": [
    {
     "data": {
      "text/html": [
       "<div>\n",
       "<style scoped>\n",
       "    .dataframe tbody tr th:only-of-type {\n",
       "        vertical-align: middle;\n",
       "    }\n",
       "\n",
       "    .dataframe tbody tr th {\n",
       "        vertical-align: top;\n",
       "    }\n",
       "\n",
       "    .dataframe thead th {\n",
       "        text-align: right;\n",
       "    }\n",
       "</style>\n",
       "<table border=\"1\" class=\"dataframe\">\n",
       "  <thead>\n",
       "    <tr style=\"text-align: right;\">\n",
       "      <th></th>\n",
       "      <th>num_rooms</th>\n",
       "      <th>pool</th>\n",
       "      <th>sqft</th>\n",
       "      <th>garage</th>\n",
       "      <th>price</th>\n",
       "    </tr>\n",
       "  </thead>\n",
       "  <tbody>\n",
       "    <tr>\n",
       "      <th>0</th>\n",
       "      <td>1</td>\n",
       "      <td>0</td>\n",
       "      <td>1000</td>\n",
       "      <td>0</td>\n",
       "      <td>120</td>\n",
       "    </tr>\n",
       "    <tr>\n",
       "      <th>1</th>\n",
       "      <td>1</td>\n",
       "      <td>1</td>\n",
       "      <td>1200</td>\n",
       "      <td>1</td>\n",
       "      <td>130</td>\n",
       "    </tr>\n",
       "    <tr>\n",
       "      <th>2</th>\n",
       "      <td>2</td>\n",
       "      <td>0</td>\n",
       "      <td>1100</td>\n",
       "      <td>1</td>\n",
       "      <td>124</td>\n",
       "    </tr>\n",
       "    <tr>\n",
       "      <th>3</th>\n",
       "      <td>2</td>\n",
       "      <td>1</td>\n",
       "      <td>1300</td>\n",
       "      <td>1</td>\n",
       "      <td>142</td>\n",
       "    </tr>\n",
       "    <tr>\n",
       "      <th>4</th>\n",
       "      <td>2</td>\n",
       "      <td>0</td>\n",
       "      <td>1500</td>\n",
       "      <td>1</td>\n",
       "      <td>165</td>\n",
       "    </tr>\n",
       "    <tr>\n",
       "      <th>5</th>\n",
       "      <td>3</td>\n",
       "      <td>1</td>\n",
       "      <td>1700</td>\n",
       "      <td>2</td>\n",
       "      <td>191</td>\n",
       "    </tr>\n",
       "    <tr>\n",
       "      <th>6</th>\n",
       "      <td>4</td>\n",
       "      <td>0</td>\n",
       "      <td>2000</td>\n",
       "      <td>2</td>\n",
       "      <td>230</td>\n",
       "    </tr>\n",
       "    <tr>\n",
       "      <th>7</th>\n",
       "      <td>4</td>\n",
       "      <td>1</td>\n",
       "      <td>2300</td>\n",
       "      <td>2</td>\n",
       "      <td>243</td>\n",
       "    </tr>\n",
       "    <tr>\n",
       "      <th>8</th>\n",
       "      <td>5</td>\n",
       "      <td>0</td>\n",
       "      <td>2500</td>\n",
       "      <td>2</td>\n",
       "      <td>277</td>\n",
       "    </tr>\n",
       "    <tr>\n",
       "      <th>9</th>\n",
       "      <td>5</td>\n",
       "      <td>1</td>\n",
       "      <td>2700</td>\n",
       "      <td>2</td>\n",
       "      <td>311</td>\n",
       "    </tr>\n",
       "  </tbody>\n",
       "</table>\n",
       "</div>"
      ],
      "text/plain": [
       "   num_rooms  pool  sqft  garage  price\n",
       "0          1     0  1000       0    120\n",
       "1          1     1  1200       1    130\n",
       "2          2     0  1100       1    124\n",
       "3          2     1  1300       1    142\n",
       "4          2     0  1500       1    165\n",
       "5          3     1  1700       2    191\n",
       "6          4     0  2000       2    230\n",
       "7          4     1  2300       2    243\n",
       "8          5     0  2500       2    277\n",
       "9          5     1  2700       2    311"
      ]
     },
     "execution_count": 3,
     "metadata": {},
     "output_type": "execute_result"
    }
   ],
   "source": [
    "# converting the dictionary to a dataframe\n",
    "df = pd.DataFrame(linear_regression_data)\n",
    "df"
   ]
  },
  {
   "cell_type": "code",
   "execution_count": 4,
   "metadata": {},
   "outputs": [
    {
     "data": {
      "image/png": "[encoded data removed]",
      "text/plain": [
       "<Figure size 640x480 with 1 Axes>"
      ]
     },
     "metadata": {},
     "output_type": "display_data"
    }
   ],
   "source": [
    "plt.scatter(df['sqft'], df['price'])\n",
    "plt.xlabel('Square Feet')\n",
    "plt.ylabel('Price')\n",
    "plt.title('Price and Square Feet plot')\n",
    "plt.show()"
   ]
  },
  {
   "cell_type": "code",
   "execution_count": 5,
   "metadata": {},
   "outputs": [],
   "source": [
    "# choose the features and the target\n",
    "X = df[['num_rooms','pool', 'sqft','garage']].to_numpy()\n",
    "y = df['price'].to_numpy()"
   ]
  },
  {
   "cell_type": "code",
   "execution_count": 6,
   "metadata": {},
   "outputs": [
    {
     "name": "stdout",
     "output_type": "stream",
     "text": [
      "X Shape: (10, 4), X Type:<class 'numpy.ndarray'>)\n",
      "y Shape: (10,), y Type:<class 'numpy.ndarray'>)\n"
     ]
    }
   ],
   "source": [
    "print(f\"X Shape: {X.shape}, X Type:{type(X)})\")\n",
    "print(f\"y Shape: {y.shape}, y Type:{type(y)})\")"
   ]
  },
  {
   "cell_type": "code",
   "execution_count": 7,
   "metadata": {},
   "outputs": [],
   "source": [
    "# setting up intial coefficients for the model\n",
    "W = np.array([ 0.92, 12, -13, 42])\n",
    "b = 0.7"
   ]
  },
  {
   "cell_type": "code",
   "execution_count": 8,
   "metadata": {},
   "outputs": [],
   "source": [
    "# cost function is sum of squared errors, MSE\n",
    "def cost_function(x, y ,w ,b):\n",
    "    cost = 0.0\n",
    "    m = x.shape[0]\n",
    "    for i in range(m):\n",
    "        prediction = np.dot(x[i], w) + b\n",
    "        cost = cost + (prediction - y[i])**2\n",
    "    cost = cost / (2 * m)\n",
    "    return cost"
   ]
  },
  {
   "cell_type": "code",
   "execution_count": 9,
   "metadata": {},
   "outputs": [],
   "source": [
    "# Gradient calculation for gradient descent optimizer algorithm\n",
    "def gradient(x, y , w, b):\n",
    "    m,n = X.shape\n",
    "    dj_dw = np.zeros((n,))\n",
    "    dj_db = 0.\n",
    "    for i in range(m):                             \n",
    "        err = (np.dot(X[i], w) + b) - y[i]   \n",
    "        for j in range(n):                         \n",
    "            dj_dw[j] = dj_dw[j] + err * x[i, j]    \n",
    "        dj_db = dj_db + err                        \n",
    "    dj_dw = dj_dw / m                                \n",
    "    dj_db = dj_db / m                                \n",
    "    return dj_db, dj_dw"
   ]
  },
  {
   "cell_type": "code",
   "execution_count": 10,
   "metadata": {},
   "outputs": [],
   "source": [
    "import copy\n",
    "def fit(X, y, w_in, b_in, cost_function, gradient_function, alpha, num_iters): \n",
    "    w = copy.deepcopy(w_in)  #to avoid changing the original w_in\n",
    "    b = b_in\n",
    "    \n",
    "    for i in range(num_iters):\n",
    "\n",
    "        # compute the gradients and update the coefficients\n",
    "        dj_db,dj_dw = gradient_function(X, y, w, b)\n",
    "\n",
    "        # update coefficients\n",
    "        w = w - alpha * dj_dw\n",
    "        b = b - alpha * dj_db\n",
    "        if i % 100 == 0:\n",
    "            cost = cost_function(X, y, w, b)\n",
    "            print(f'epoch: {i}, cost: {cost:.4f}')\n",
    "    return w, b"
   ]
  },
  {
   "cell_type": "code",
   "execution_count": 11,
   "metadata": {},
   "outputs": [
    {
     "name": "stdout",
     "output_type": "stream",
     "text": [
      "epoch: 0, cost: 9223.2098\n",
      "epoch: 100, cost: 21.7589\n",
      "epoch: 200, cost: 21.7588\n",
      "epoch: 300, cost: 21.7587\n",
      "epoch: 400, cost: 21.7586\n",
      "epoch: 500, cost: 21.7585\n",
      "epoch: 600, cost: 21.7584\n",
      "epoch: 700, cost: 21.7584\n",
      "epoch: 800, cost: 21.7583\n",
      "epoch: 900, cost: 21.7582\n",
      "epoch: 1000, cost: 21.7581\n",
      "epoch: 1100, cost: 21.7580\n",
      "epoch: 1200, cost: 21.7579\n",
      "epoch: 1300, cost: 21.7578\n",
      "epoch: 1400, cost: 21.7577\n",
      "epoch: 1500, cost: 21.7576\n",
      "epoch: 1600, cost: 21.7575\n",
      "epoch: 1700, cost: 21.7574\n",
      "epoch: 1800, cost: 21.7573\n",
      "epoch: 1900, cost: 21.7572\n",
      "epoch: 2000, cost: 21.7572\n",
      "epoch: 2100, cost: 21.7571\n",
      "epoch: 2200, cost: 21.7570\n",
      "epoch: 2300, cost: 21.7569\n",
      "epoch: 2400, cost: 21.7568\n",
      "epoch: 2500, cost: 21.7567\n",
      "epoch: 2600, cost: 21.7566\n",
      "epoch: 2700, cost: 21.7565\n",
      "epoch: 2800, cost: 21.7564\n",
      "epoch: 2900, cost: 21.7563\n",
      "epoch: 3000, cost: 21.7562\n",
      "epoch: 3100, cost: 21.7561\n",
      "epoch: 3200, cost: 21.7561\n",
      "epoch: 3300, cost: 21.7560\n",
      "epoch: 3400, cost: 21.7559\n",
      "epoch: 3500, cost: 21.7558\n",
      "epoch: 3600, cost: 21.7557\n",
      "epoch: 3700, cost: 21.7556\n",
      "epoch: 3800, cost: 21.7555\n",
      "epoch: 3900, cost: 21.7554\n",
      "epoch: 4000, cost: 21.7553\n",
      "epoch: 4100, cost: 21.7552\n",
      "epoch: 4200, cost: 21.7551\n",
      "epoch: 4300, cost: 21.7550\n",
      "epoch: 4400, cost: 21.7549\n",
      "epoch: 4500, cost: 21.7549\n",
      "epoch: 4600, cost: 21.7548\n",
      "epoch: 4700, cost: 21.7547\n",
      "epoch: 4800, cost: 21.7546\n",
      "epoch: 4900, cost: 21.7545\n",
      "epoch: 5000, cost: 21.7544\n",
      "epoch: 5100, cost: 21.7543\n",
      "epoch: 5200, cost: 21.7542\n",
      "epoch: 5300, cost: 21.7541\n",
      "epoch: 5400, cost: 21.7540\n",
      "epoch: 5500, cost: 21.7539\n",
      "epoch: 5600, cost: 21.7538\n",
      "epoch: 5700, cost: 21.7538\n",
      "epoch: 5800, cost: 21.7537\n",
      "epoch: 5900, cost: 21.7536\n",
      "epoch: 6000, cost: 21.7535\n",
      "epoch: 6100, cost: 21.7534\n",
      "epoch: 6200, cost: 21.7533\n",
      "epoch: 6300, cost: 21.7532\n",
      "epoch: 6400, cost: 21.7531\n",
      "epoch: 6500, cost: 21.7530\n",
      "epoch: 6600, cost: 21.7529\n",
      "epoch: 6700, cost: 21.7528\n",
      "epoch: 6800, cost: 21.7527\n",
      "epoch: 6900, cost: 21.7527\n",
      "epoch: 7000, cost: 21.7526\n",
      "epoch: 7100, cost: 21.7525\n",
      "epoch: 7200, cost: 21.7524\n",
      "epoch: 7300, cost: 21.7523\n",
      "epoch: 7400, cost: 21.7522\n",
      "epoch: 7500, cost: 21.7521\n",
      "epoch: 7600, cost: 21.7520\n",
      "epoch: 7700, cost: 21.7519\n",
      "epoch: 7800, cost: 21.7518\n",
      "epoch: 7900, cost: 21.7517\n",
      "epoch: 8000, cost: 21.7516\n",
      "epoch: 8100, cost: 21.7516\n",
      "epoch: 8200, cost: 21.7515\n",
      "epoch: 8300, cost: 21.7514\n",
      "epoch: 8400, cost: 21.7513\n",
      "epoch: 8500, cost: 21.7512\n",
      "epoch: 8600, cost: 21.7511\n",
      "epoch: 8700, cost: 21.7510\n",
      "epoch: 8800, cost: 21.7509\n",
      "epoch: 8900, cost: 21.7508\n",
      "epoch: 9000, cost: 21.7507\n",
      "epoch: 9100, cost: 21.7506\n",
      "epoch: 9200, cost: 21.7505\n",
      "epoch: 9300, cost: 21.7504\n",
      "epoch: 9400, cost: 21.7504\n",
      "epoch: 9500, cost: 21.7503\n",
      "epoch: 9600, cost: 21.7502\n",
      "epoch: 9700, cost: 21.7501\n",
      "epoch: 9800, cost: 21.7500\n",
      "epoch: 9900, cost: 21.7499\n",
      "W = [ 0.00301116 -0.00522583  0.11168568 -0.00310569], b = 0.00046485778368647655\n"
     ]
    }
   ],
   "source": [
    "# run the model training to get the optimal coefficients\n",
    "init_w = np.zeros_like(W)\n",
    "init_b = 0.\n",
    "alpha = 0.0000005\n",
    "iterations = 10000\n",
    "w_opt, b_opt = fit(X, y , init_w, init_b, cost_function, gradient, alpha, iterations)\n",
    "print(f'W = {w_opt}, b = {b_opt}')"
   ]
  },
  {
   "cell_type": "code",
   "execution_count": 12,
   "metadata": {},
   "outputs": [],
   "source": [
    "# make predictions for plotting\n",
    "m = X.shape[0]\n",
    "p = np.zeros(m)\n",
    "predict = lambda w_opt, b_opt, x: [np.dot(w_opt, x) + b_opt for x in X]\n",
    "p = predict(w_opt, b_opt, X)"
   ]
  },
  {
   "cell_type": "code",
   "execution_count": 13,
   "metadata": {},
   "outputs": [],
   "source": [
    "# get only the areas data for plotting\n",
    "areas = []\n",
    "for i in range(len(y)):\n",
    "    areas.append(X[i][2])"
   ]
  },
  {
   "cell_type": "code",
   "execution_count": 14,
   "metadata": {},
   "outputs": [
    {
     "data": {
      "image/png": "[encoded data removed]",
      "text/plain": [
       "<Figure size 640x480 with 1 Axes>"
      ]
     },
     "metadata": {},
     "output_type": "display_data"
    }
   ],
   "source": [
    "# plot the line of predected values\n",
    "plt.plot(areas, p, c = \"b\")\n",
    "\n",
    "# plot the actual values\n",
    "plt.scatter(areas, y, marker='x', c='r')\n",
    "plt.xlabel('Area')\n",
    "plt.ylabel('Price')\n",
    "plt.title('Predcted Price line vs Actual Price points')\n",
    "plt.show()"
   ]
  }
 ],
 "metadata": {
  "kernelspec": {
   "display_name": "Python 3 (ipykernel)",
   "language": "python",
   "name": "python3"
  },
  "language_info": {
   "codemirror_mode": {
    "name": "ipython",
    "version": 3
   },
   "file_extension": ".py",
   "mimetype": "text/x-python",
   "name": "python",
   "nbconvert_exporter": "python",
   "pygments_lexer": "ipython3",
   "version": "3.11.3"
  }
 },
 "nbformat": 4,
 "nbformat_minor": 2
}
